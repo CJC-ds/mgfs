{
 "cells": [
  {
   "cell_type": "markdown",
   "metadata": {},
   "source": [
    "# MGFS: A multi-label graph-based feature selection algorithm via PageRank centrality"
   ]
  },
  {
   "cell_type": "markdown",
   "metadata": {},
   "source": [
    "## Imports"
   ]
  },
  {
   "cell_type": "code",
   "execution_count": 1,
   "metadata": {},
   "outputs": [],
   "source": [
    "import pandas as pd\n",
    "import numpy as np\n",
    "from scipy.spatial.distance import cdist"
   ]
  },
  {
   "cell_type": "markdown",
   "metadata": {},
   "source": [
    "## Prepare functions"
   ]
  },
  {
   "cell_type": "code",
   "execution_count": 2,
   "metadata": {},
   "outputs": [],
   "source": [
    "def covariance(X, Y, bias=False):\n",
    "    X_mean = np.mean(X, dtype=np.float64)\n",
    "    Y_mean = np.mean(Y, dtype=np.float64)\n",
    "    if bias:\n",
    "        n = len(X)\n",
    "    else:\n",
    "        n = len(X) - 1\n",
    "\n",
    "    return np.sum((X - X_mean) * (Y - Y_mean)) / n"
   ]
  },
  {
   "cell_type": "code",
   "execution_count": 3,
   "metadata": {},
   "outputs": [],
   "source": [
    "def covariance_matrix(X, Y, bias=False):\n",
    "    return np.array([[1 - (covariance(f_val, l_val)/np.sqrt(np.var(f_val, ddof=1)*np.var(l_val, ddof=1))) for f_val in X.T] for l_val in Y.T]).T"
   ]
  },
  {
   "cell_type": "code",
   "execution_count": 5,
   "metadata": {},
   "outputs": [],
   "source": [
    "def euclidean_distance_matrix(matrix):\n",
    "    distance_matrix = cdist(matrix, matrix, 'euclidean')\n",
    "    return distance_matrix"
   ]
  },
  {
   "cell_type": "code",
   "execution_count": 104,
   "metadata": {},
   "outputs": [],
   "source": [
    "def weighted_pagerank(M, beta=0.85, epsilon=1e-8):\n",
    "    n = len(M)\n",
    "    d = np.sum(M, axis=1)\n",
    "    P = M / d[:, np.newaxis]\n",
    "    G = beta * P + (1 - beta) / n * np.ones((n, n))\n",
    "\n",
    "    # Initial probability vector\n",
    "    pi = np.ones(n) / n\n",
    "\n",
    "    while True:\n",
    "        pi_next = np.dot(pi, G)\n",
    "\n",
    "        # Check for convergence\n",
    "        if np.linalg.norm(pi_next - pi, 1) < epsilon:\n",
    "            break\n",
    "\n",
    "        pi = pi_next\n",
    "\n",
    "    return pi"
   ]
  },
  {
   "cell_type": "markdown",
   "metadata": {},
   "source": [
    "## Data"
   ]
  },
  {
   "cell_type": "code",
   "execution_count": 7,
   "metadata": {},
   "outputs": [],
   "source": [
    "features = np.array([\n",
    "    [0.0347, 0.0897, 0.0912, -73.3024, 6.2152],\n",
    "    [0.0814, 0.2727, 0.0857, -62.5844, 3.1832],\n",
    "    [0.1105, 0.2736, 0.0844, -65.2353, 2.7950]\n",
    "])\n",
    "\n",
    "labels = np.array([\n",
    "    [0, 1, 1],\n",
    "    [1, 0, 0],\n",
    "    [0, 1, 0]\n",
    "])"
   ]
  },
  {
   "cell_type": "markdown",
   "metadata": {},
   "source": [
    "## Usage"
   ]
  },
  {
   "cell_type": "code",
   "execution_count": 10,
   "metadata": {},
   "outputs": [
    {
     "data": {
      "text/plain": [
       "array([[0.86713359, 1.13286641, 1.92478039],\n",
       "       [0.50368396, 1.49631604, 1.99999097],\n",
       "       [1.33588179, 0.66411821, 0.01634619],\n",
       "       [0.30867533, 1.69132467, 1.97140401],\n",
       "       [1.40754479, 0.59245521, 0.00538601]])"
      ]
     },
     "execution_count": 10,
     "metadata": {},
     "output_type": "execute_result"
    }
   ],
   "source": [
    "CDM = covariance_matrix(X=features, Y=labels, bias=False)\n",
    "CDM"
   ]
  },
  {
   "cell_type": "code",
   "execution_count": 68,
   "metadata": {},
   "outputs": [
    {
     "data": {
      "text/plain": [
       "array([[0.        , 0.51946887, 2.02028979, 0.79115424, 2.06595336],\n",
       "       [0.51946887, 0.        , 2.30650236, 0.27726151, 2.36904575],\n",
       "       [2.02028979, 2.30650236, 0.        , 2.43568417, 0.1019377 ],\n",
       "       [0.79115424, 0.27726151, 2.43568417, 0.        , 2.50604369],\n",
       "       [2.06595336, 2.36904575, 0.1019377 , 2.50604369, 0.        ]])"
      ]
     },
     "execution_count": 68,
     "metadata": {},
     "output_type": "execute_result"
    }
   ],
   "source": [
    "\n",
    "EDM = euclidean_distance_matrix(CDM)\n",
    "EDM"
   ]
  },
  {
   "cell_type": "code",
   "execution_count": 118,
   "metadata": {},
   "outputs": [
    {
     "data": {
      "text/plain": [
       "array([0.17799211, 0.17996626, 0.22105117, 0.19496132, 0.22602913])"
      ]
     },
     "execution_count": 118,
     "metadata": {},
     "output_type": "execute_result"
    }
   ],
   "source": [
    "FLG = weighted_pagerank(EDM, beta=0.85, epsilon=1e-8)\n",
    "FLG"
   ]
  }
 ],
 "metadata": {
  "kernelspec": {
   "display_name": "Python 3",
   "language": "python",
   "name": "python3"
  },
  "language_info": {
   "codemirror_mode": {
    "name": "ipython",
    "version": 3
   },
   "file_extension": ".py",
   "mimetype": "text/x-python",
   "name": "python",
   "nbconvert_exporter": "python",
   "pygments_lexer": "ipython3",
   "version": "3.11.3"
  }
 },
 "nbformat": 4,
 "nbformat_minor": 2
}
